{
 "cells": [
  {
   "cell_type": "markdown",
   "id": "54a9d0bb",
   "metadata": {},
   "source": [
    "## Loading the dependencies for the Recommendation system implementation"
   ]
  },
  {
   "cell_type": "code",
   "execution_count": 15,
   "id": "6a3ed752",
   "metadata": {},
   "outputs": [],
   "source": [
    "## Load dependencies for the Recommendation System\n",
    "import os\n",
    "from dotenv import load_dotenv\n",
    "import cohere\n",
    "from langchain.vectorstores import FAISS\n",
    "from langchain_core.embeddings import Embeddings\n",
    "\n",
    "# Load environment variables\n",
    "load_dotenv()\n",
    "co = cohere.Client(os.getenv(\"COHERE_API_KEY\"))\n"
   ]
  },
  {
   "cell_type": "markdown",
   "id": "4c1408d7",
   "metadata": {},
   "source": [
    "## Defining an embedding wrapper"
   ]
  },
  {
   "cell_type": "code",
   "execution_count": 16,
   "id": "d48761cb",
   "metadata": {},
   "outputs": [],
   "source": [
    "## Define embedding wrapper with graceful fallback\n",
    "class CohereEmbedder(Embeddings):\n",
    "    def embed_documents(self, texts):\n",
    "        try:\n",
    "            return co.embed(\n",
    "                texts=texts,\n",
    "                model=\"embed-english-v3.0\",\n",
    "                input_type=\"search_document\"\n",
    "            ).embeddings\n",
    "        except Exception as e:\n",
    "            print(f\" Embedding failed: {e}\")\n",
    "            return [[0.0] * 1024] * len(texts)\n",
    "\n",
    "    def embed_query(self, text):\n",
    "        return self.embed_documents([text])[0]\n",
    "\n",
    "embedding_model = CohereEmbedder()\n"
   ]
  },
  {
   "cell_type": "markdown",
   "id": "e01de258",
   "metadata": {},
   "source": [
    "## Load the FAISS Index\n"
   ]
  },
  {
   "cell_type": "code",
   "execution_count": 18,
   "id": "b81e9d1f",
   "metadata": {},
   "outputs": [],
   "source": [
    "vector_store = FAISS.load_local(\n",
    "    folder_path=\"vectorstore/faiss_large\",\n",
    "    index_name=\"large_index\",\n",
    "    embeddings=embedding_model,\n",
    "    allow_dangerous_deserialization=True\n",
    ")\n"
   ]
  },
  {
   "cell_type": "markdown",
   "id": "a5ad8731",
   "metadata": {},
   "source": [
    "## Recomender function "
   ]
  },
  {
   "cell_type": "code",
   "execution_count": 19,
   "id": "4b7e2d9c",
   "metadata": {},
   "outputs": [],
   "source": [
    "## Define Recommendation Function\n",
    "def recommend_related_papers(query_text, top_k=5):\n",
    "    results = vector_store.similarity_search(query_text, k=top_k)\n",
    "    for i, doc in enumerate(results, 1):\n",
    "        print(f\"--- Recommendation #{i} ---\\n{doc.page_content[:500]}...\\n\")\n"
   ]
  },
  {
   "cell_type": "code",
   "execution_count": null,
   "id": "02cc6bf1",
   "metadata": {},
   "outputs": [],
   "source": [
    "query = \"Shaping the globular cluster mass function by stellar-dynamical evaporation\"\n",
    "recommend_related_papers(query, top_k=5)\n"
   ]
  },
  {
   "cell_type": "code",
   "execution_count": null,
   "id": "c2c3b4d8",
   "metadata": {},
   "outputs": [],
   "source": []
  }
 ],
 "metadata": {
  "kernelspec": {
   "display_name": "Python 3",
   "language": "python",
   "name": "python3"
  },
  "language_info": {
   "codemirror_mode": {
    "name": "ipython",
    "version": 3
   },
   "file_extension": ".py",
   "mimetype": "text/x-python",
   "name": "python",
   "nbconvert_exporter": "python",
   "pygments_lexer": "ipython3",
   "version": "3.11.9"
  }
 },
 "nbformat": 4,
 "nbformat_minor": 5
}
